{
 "cells": [
  {
   "cell_type": "code",
   "execution_count": 1,
   "metadata": {
    "collapsed": true
   },
   "outputs": [],
   "source": [
    "# Imports\n",
    "from sqlalchemy import create_engine\n",
    "from sqlalchemy.ext.declarative import declarative_base\n",
    "from sqlalchemy import Column, Integer, String, Float, Date\n",
    "from sqlalchemy.orm import Session\n",
    "# For entering in cleaned CSV files\n",
    "import os\n",
    "import csv\n",
    "import pandas as pd"
   ]
  },
  {
   "cell_type": "code",
   "execution_count": 2,
   "metadata": {
    "collapsed": true
   },
   "outputs": [],
   "source": [
    "Base = declarative_base()\n",
    "engine = create_engine('sqlite:///hawaii.sqlite_4')"
   ]
  },
  {
   "cell_type": "code",
   "execution_count": 3,
   "metadata": {
    "collapsed": true
   },
   "outputs": [],
   "source": [
    "class Stations(Base):\n",
    "    __tablename__='stations'\n",
    "    id = Column(Integer, primary_key=True)\n",
    "    station = Column(String(255))\n",
    "    name = Column(String(255))\n",
    "    latitude = Column(Float)\n",
    "    longitude = Column(Float)\n",
    "    elevation = Column(Float)\n",
    "    \n",
    "class Measurements(Base):\n",
    "    __tablename__='measurements'\n",
    "    id = Column(Integer, primary_key=True)\n",
    "    station = Column(String)\n",
    "    date = Column(Date)\n",
    "    prcp = Column(Integer)\n",
    "    tobs = Column(Integer)"
   ]
  },
  {
   "cell_type": "code",
   "execution_count": 4,
   "metadata": {
    "collapsed": true
   },
   "outputs": [],
   "source": [
    "# Create a \"Metadata\" Layer That Abstracts our SQL Database\n",
    "# ----------------------------------\n",
    "# Create (if not already in existence) the tables associated with our classes.\n",
    "Base.metadata.create_all(engine)\n",
    "\n",
    "# Create a Session Object to Connect to DB\n",
    "# ----------------------------------\n",
    "# Session is a temporary binding to our DB\n",
    "session = Session(bind=engine)"
   ]
  },
  {
   "cell_type": "code",
   "execution_count": 5,
   "metadata": {
    "collapsed": true
   },
   "outputs": [],
   "source": [
    "# Importing both csv files\n",
    "hawaii_measurements_csv = os.path.join('cleaned_hawaii_measurements.csv')\n",
    "hawaii_stations_csv = os.path.join('cleaned_hawaii_stations.csv')\n",
    "measurements_df = pd.read_csv(hawaii_measurements_csv)\n",
    "stations_df = pd.read_csv(hawaii_stations_csv)"
   ]
  },
  {
   "cell_type": "code",
   "execution_count": 6,
   "metadata": {},
   "outputs": [
    {
     "data": {
      "text/html": [
       "<div>\n",
       "<style>\n",
       "    .dataframe thead tr:only-child th {\n",
       "        text-align: right;\n",
       "    }\n",
       "\n",
       "    .dataframe thead th {\n",
       "        text-align: left;\n",
       "    }\n",
       "\n",
       "    .dataframe tbody tr th {\n",
       "        vertical-align: top;\n",
       "    }\n",
       "</style>\n",
       "<table border=\"1\" class=\"dataframe\">\n",
       "  <thead>\n",
       "    <tr style=\"text-align: right;\">\n",
       "      <th></th>\n",
       "      <th>station</th>\n",
       "      <th>date</th>\n",
       "      <th>prcp</th>\n",
       "      <th>tobs</th>\n",
       "    </tr>\n",
       "  </thead>\n",
       "  <tbody>\n",
       "    <tr>\n",
       "      <th>0</th>\n",
       "      <td>USC00519397</td>\n",
       "      <td>2010-01-01</td>\n",
       "      <td>0.08</td>\n",
       "      <td>65</td>\n",
       "    </tr>\n",
       "    <tr>\n",
       "      <th>1</th>\n",
       "      <td>USC00519397</td>\n",
       "      <td>2010-01-02</td>\n",
       "      <td>0.00</td>\n",
       "      <td>63</td>\n",
       "    </tr>\n",
       "    <tr>\n",
       "      <th>2</th>\n",
       "      <td>USC00519397</td>\n",
       "      <td>2010-01-03</td>\n",
       "      <td>0.00</td>\n",
       "      <td>74</td>\n",
       "    </tr>\n",
       "    <tr>\n",
       "      <th>3</th>\n",
       "      <td>USC00519397</td>\n",
       "      <td>2010-01-04</td>\n",
       "      <td>0.00</td>\n",
       "      <td>76</td>\n",
       "    </tr>\n",
       "    <tr>\n",
       "      <th>4</th>\n",
       "      <td>USC00519397</td>\n",
       "      <td>2010-01-06</td>\n",
       "      <td>-10.00</td>\n",
       "      <td>73</td>\n",
       "    </tr>\n",
       "  </tbody>\n",
       "</table>\n",
       "</div>"
      ],
      "text/plain": [
       "       station        date   prcp  tobs\n",
       "0  USC00519397  2010-01-01   0.08    65\n",
       "1  USC00519397  2010-01-02   0.00    63\n",
       "2  USC00519397  2010-01-03   0.00    74\n",
       "3  USC00519397  2010-01-04   0.00    76\n",
       "4  USC00519397  2010-01-06 -10.00    73"
      ]
     },
     "execution_count": 6,
     "metadata": {},
     "output_type": "execute_result"
    }
   ],
   "source": [
    "measurements_df = measurements_df[['station', 'date', 'prcp', 'tobs']]\n",
    "measurements_df.head()"
   ]
  },
  {
   "cell_type": "code",
   "execution_count": 7,
   "metadata": {},
   "outputs": [
    {
     "data": {
      "text/html": [
       "<div>\n",
       "<style>\n",
       "    .dataframe thead tr:only-child th {\n",
       "        text-align: right;\n",
       "    }\n",
       "\n",
       "    .dataframe thead th {\n",
       "        text-align: left;\n",
       "    }\n",
       "\n",
       "    .dataframe tbody tr th {\n",
       "        vertical-align: top;\n",
       "    }\n",
       "</style>\n",
       "<table border=\"1\" class=\"dataframe\">\n",
       "  <thead>\n",
       "    <tr style=\"text-align: right;\">\n",
       "      <th></th>\n",
       "      <th>station</th>\n",
       "      <th>name</th>\n",
       "      <th>latitude</th>\n",
       "      <th>longitude</th>\n",
       "      <th>elevation</th>\n",
       "    </tr>\n",
       "  </thead>\n",
       "  <tbody>\n",
       "    <tr>\n",
       "      <th>0</th>\n",
       "      <td>USC00519397</td>\n",
       "      <td>WAIKIKI 717.2, HI US</td>\n",
       "      <td>21.2716</td>\n",
       "      <td>-157.8168</td>\n",
       "      <td>3.0</td>\n",
       "    </tr>\n",
       "    <tr>\n",
       "      <th>1</th>\n",
       "      <td>USC00513117</td>\n",
       "      <td>KANEOHE 838.1, HI US</td>\n",
       "      <td>21.4234</td>\n",
       "      <td>-157.8015</td>\n",
       "      <td>14.6</td>\n",
       "    </tr>\n",
       "    <tr>\n",
       "      <th>2</th>\n",
       "      <td>USC00514830</td>\n",
       "      <td>KUALOA RANCH HEADQUARTERS 886.9, HI US</td>\n",
       "      <td>21.5213</td>\n",
       "      <td>-157.8374</td>\n",
       "      <td>7.0</td>\n",
       "    </tr>\n",
       "    <tr>\n",
       "      <th>3</th>\n",
       "      <td>USC00517948</td>\n",
       "      <td>PEARL CITY, HI US</td>\n",
       "      <td>21.3934</td>\n",
       "      <td>-157.9751</td>\n",
       "      <td>11.9</td>\n",
       "    </tr>\n",
       "    <tr>\n",
       "      <th>4</th>\n",
       "      <td>USC00518838</td>\n",
       "      <td>UPPER WAHIAWA 874.3, HI US</td>\n",
       "      <td>21.4992</td>\n",
       "      <td>-158.0111</td>\n",
       "      <td>306.6</td>\n",
       "    </tr>\n",
       "  </tbody>\n",
       "</table>\n",
       "</div>"
      ],
      "text/plain": [
       "       station                                    name  latitude  longitude  \\\n",
       "0  USC00519397                    WAIKIKI 717.2, HI US   21.2716  -157.8168   \n",
       "1  USC00513117                    KANEOHE 838.1, HI US   21.4234  -157.8015   \n",
       "2  USC00514830  KUALOA RANCH HEADQUARTERS 886.9, HI US   21.5213  -157.8374   \n",
       "3  USC00517948                       PEARL CITY, HI US   21.3934  -157.9751   \n",
       "4  USC00518838              UPPER WAHIAWA 874.3, HI US   21.4992  -158.0111   \n",
       "\n",
       "   elevation  \n",
       "0        3.0  \n",
       "1       14.6  \n",
       "2        7.0  \n",
       "3       11.9  \n",
       "4      306.6  "
      ]
     },
     "execution_count": 7,
     "metadata": {},
     "output_type": "execute_result"
    }
   ],
   "source": [
    "stations_df = stations_df[['station', 'name', 'latitude', 'longitude', 'elevation']]\n",
    "stations_df.head()\n"
   ]
  },
  {
   "cell_type": "code",
   "execution_count": 8,
   "metadata": {},
   "outputs": [
    {
     "name": "stdout",
     "output_type": "stream",
     "text": [
      "USC00519397\n"
     ]
    }
   ],
   "source": [
    "station_list = []\n",
    "for each in stations_df.station:\n",
    "    station_list.append(each)\n",
    "print(station_list[0])"
   ]
  },
  {
   "cell_type": "code",
   "execution_count": 9,
   "metadata": {},
   "outputs": [
    {
     "name": "stdout",
     "output_type": "stream",
     "text": [
      "['WAIKIKI 717.2, HI US', 'KANEOHE 838.1, HI US', 'KUALOA RANCH HEADQUARTERS 886.9, HI US', 'PEARL CITY, HI US', 'UPPER WAHIAWA 874.3, HI US', 'WAIMANALO EXPERIMENTAL FARM, HI US', 'WAIHEE 837.5, HI US', 'HONOLULU OBSERVATORY 702.2, HI US', 'MANOA LYON ARBO 785.2, HI US']\n"
     ]
    }
   ],
   "source": [
    "name_list = []\n",
    "for each in stations_df.name:\n",
    "    name_list.append(each)\n",
    "print(name_list)"
   ]
  },
  {
   "cell_type": "code",
   "execution_count": 10,
   "metadata": {},
   "outputs": [
    {
     "name": "stdout",
     "output_type": "stream",
     "text": [
      "[21.271599999999999, 21.423400000000001, 21.5213, 21.3934, 21.499199999999998, 21.335560000000001, 21.45167, 21.315200000000001, 21.333100000000002]\n"
     ]
    }
   ],
   "source": [
    "lat_list = []\n",
    "for each in stations_df.latitude:\n",
    "    lat_list.append(each)\n",
    "print(lat_list)"
   ]
  },
  {
   "cell_type": "code",
   "execution_count": 11,
   "metadata": {},
   "outputs": [
    {
     "name": "stdout",
     "output_type": "stream",
     "text": [
      "[-157.8168, -157.8015, -157.8374, -157.9751, -158.0111, -157.71138999999999, -157.84888999999995, -157.9992, -157.80250000000001]\n"
     ]
    }
   ],
   "source": [
    "lon_list = []\n",
    "for each in stations_df.longitude:\n",
    "    lon_list.append(each)\n",
    "print(lon_list)"
   ]
  },
  {
   "cell_type": "code",
   "execution_count": 14,
   "metadata": {},
   "outputs": [
    {
     "name": "stdout",
     "output_type": "stream",
     "text": [
      "3.0\n"
     ]
    }
   ],
   "source": [
    "elev_list = []\n",
    "for each in stations_df.elevation:\n",
    "    elev_list.append(each)\n",
    "print(elev_list)"
   ]
  },
  {
   "cell_type": "code",
   "execution_count": 17,
   "metadata": {},
   "outputs": [],
   "source": [
    "list_for_stations = []\n",
    "i = 0\n",
    "while len(list_for_stations) < len(station_list):\n",
    "#     s_station = station_list[i]\n",
    "#     s_name = name_list[i]\n",
    "#     s_lat = lat_list[i]\n",
    "#     s_lon = lon_list[i]\n",
    "#     s_elev = elev_list[i]\n",
    "    storing_station = Stations(station = station_list[i], name = name_list[i], latitude = lat_list[i], \n",
    "                               longitude = lon_list[i], elevation = elev_list[i])\n",
    "    list_for_stations.append(storing_station)\n",
    "    i = i+ 1"
   ]
  },
  {
   "cell_type": "code",
   "execution_count": 16,
   "metadata": {},
   "outputs": [
    {
     "name": "stdout",
     "output_type": "stream",
     "text": [
      "USC00519397\n",
      "WAIKIKI 717.2, HI US\n",
      "21.2716\n",
      "-157.8168\n",
      "3.0\n",
      "USC00513117\n",
      "KANEOHE 838.1, HI US\n",
      "21.4234\n",
      "-157.8015\n",
      "14.6\n",
      "USC00514830\n",
      "KUALOA RANCH HEADQUARTERS 886.9, HI US\n",
      "21.5213\n",
      "-157.8374\n",
      "7.0\n",
      "USC00517948\n",
      "PEARL CITY, HI US\n",
      "21.3934\n",
      "-157.9751\n",
      "11.9\n",
      "USC00518838\n",
      "UPPER WAHIAWA 874.3, HI US\n",
      "21.4992\n",
      "-158.0111\n",
      "306.6\n",
      "USC00519523\n",
      "WAIMANALO EXPERIMENTAL FARM, HI US\n",
      "21.33556\n",
      "-157.71139\n",
      "19.5\n",
      "USC00519281\n",
      "WAIHEE 837.5, HI US\n",
      "21.45167\n",
      "-157.84889\n",
      "32.9\n",
      "USC00511918\n",
      "HONOLULU OBSERVATORY 702.2, HI US\n",
      "21.3152\n",
      "-157.9992\n",
      "0.9\n",
      "USC00516128\n",
      "MANOA LYON ARBO 785.2, HI US\n",
      "21.3331\n",
      "-157.8025\n",
      "152.4\n",
      "9\n"
     ]
    }
   ],
   "source": [
    "for s_station in list_for_stations:\n",
    "    print(s_station.station)\n",
    "    print(s_station.name)\n",
    "    print(s_station.latitude)\n",
    "    print(s_station.longitude)\n",
    "    print(s_station.elevation)\n",
    "print(i)"
   ]
  },
  {
   "cell_type": "code",
   "execution_count": 17,
   "metadata": {},
   "outputs": [],
   "source": [
    "# station_list = []\n",
    "# for each in stations_df.station:\n",
    "#     station_list.append(Stations(station=each))\n",
    "# print(station_list)\n",
    "# print(len(station_list))\n",
    "# session.add_all(station_list)\n",
    "# session.commit()"
   ]
  },
  {
   "cell_type": "code",
   "execution_count": 18,
   "metadata": {},
   "outputs": [],
   "source": [
    "# name_list = []\n",
    "# for each_name in stations_df.name:\n",
    "#     name_list.append(Stations(name=each_name))\n",
    "# print(name_list)\n",
    "# print(len(name_list))\n",
    "# session.add_all(name_list)\n",
    "# session.commit()"
   ]
  },
  {
   "cell_type": "code",
   "execution_count": 19,
   "metadata": {},
   "outputs": [],
   "source": [
    "# blah = session.query(Stations)\n",
    "# for s in blah:\n",
    "#     print(s.station)\n",
    "#     print(s.name)"
   ]
  },
  {
   "cell_type": "code",
   "execution_count": 7,
   "metadata": {
    "collapsed": true
   },
   "outputs": [],
   "source": [
    "measurements_list = session.query(Measurements)"
   ]
  },
  {
   "cell_type": "code",
   "execution_count": 8,
   "metadata": {
    "collapsed": true
   },
   "outputs": [],
   "source": [
    "for eachobject in measurements_list:\n",
    "    print(eachobject.date)"
   ]
  },
  {
   "cell_type": "code",
   "execution_count": null,
   "metadata": {
    "collapsed": true
   },
   "outputs": [],
   "source": []
  }
 ],
 "metadata": {
  "kernelspec": {
   "display_name": "Python [conda env:PythonData]",
   "language": "python",
   "name": "conda-env-PythonData-py"
  },
  "language_info": {
   "codemirror_mode": {
    "name": "ipython",
    "version": 3
   },
   "file_extension": ".py",
   "mimetype": "text/x-python",
   "name": "python",
   "nbconvert_exporter": "python",
   "pygments_lexer": "ipython3",
   "version": "3.6.1"
  }
 },
 "nbformat": 4,
 "nbformat_minor": 2
}
